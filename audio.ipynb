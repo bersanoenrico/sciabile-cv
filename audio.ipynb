{
 "cells": [
  {
   "cell_type": "code",
   "execution_count": 9,
   "id": "8373c444",
   "metadata": {},
   "outputs": [],
   "source": [
    "import numpy as np\n",
    "import pyaudio\n",
    "\n",
    "# Parameters for the audio stream\n",
    "sampling_rate = 44100\n",
    "duration = 5\n",
    "frequency = 440\n",
    "\n",
    "# Generate audio data for the specified frequency\n",
    "t = np.linspace(0, duration, int(sampling_rate * duration), False)\n",
    "audio_data = np.sin(2 * np.pi * frequency * t)\n",
    "\n",
    "# Play the audio data\n",
    "p = pyaudio.PyAudio()\n",
    "stream = p.open(format=pyaudio.paFloat32,\n",
    "                channels=1,\n",
    "                rate=sampling_rate,\n",
    "                output=True)\n",
    "stream.write(audio_data.tobytes())\n",
    "stream.stop_stream()\n",
    "stream.close()\n",
    "p.terminate()"
   ]
  },
  {
   "cell_type": "code",
   "execution_count": 8,
   "id": "d5f73700",
   "metadata": {},
   "outputs": [],
   "source": [
    "import numpy as np\n",
    "import pyaudio\n",
    "\n",
    "# Parameters for the audio stream\n",
    "sampling_rate = 44100\n",
    "duration = 10\n",
    "start_frequency = 440\n",
    "end_frequency = 880\n",
    "\n",
    "# Generate audio data with increasing frequency\n",
    "t = np.linspace(0, duration, int(sampling_rate * duration), False)\n",
    "frequency = start_frequency + (end_frequency - start_frequency) * np.sin(2*np.pi*t/duration)\n",
    "audio_data = np.sin(2 * np.pi * frequency * t)\n",
    "\n",
    "# Play the audio data\n",
    "p = pyaudio.PyAudio()\n",
    "stream = p.open(format=pyaudio.paFloat32,\n",
    "                channels=1,\n",
    "                rate=sampling_rate,\n",
    "                output=True)\n",
    "stream.write(audio_data.tobytes())\n",
    "stream.stop_stream()\n",
    "stream.close()\n",
    "p.terminate()\n"
   ]
  },
  {
   "cell_type": "code",
   "execution_count": 14,
   "id": "cd850ef8",
   "metadata": {},
   "outputs": [
    {
     "ename": "KeyboardInterrupt",
     "evalue": "",
     "output_type": "error",
     "traceback": [
      "\u001b[1;31m---------------------------------------------------------------------------\u001b[0m",
      "\u001b[1;31mKeyboardInterrupt\u001b[0m                         Traceback (most recent call last)",
      "Cell \u001b[1;32mIn[14], line 28\u001b[0m\n\u001b[0;32m     25\u001b[0m     audio_data \u001b[38;5;241m=\u001b[39m np\u001b[38;5;241m.\u001b[39msin(\u001b[38;5;241m2\u001b[39m \u001b[38;5;241m*\u001b[39m np\u001b[38;5;241m.\u001b[39mpi \u001b[38;5;241m*\u001b[39m frequency \u001b[38;5;241m*\u001b[39m t)\n\u001b[0;32m     27\u001b[0m     \u001b[38;5;66;03m# Play the audio data\u001b[39;00m\n\u001b[1;32m---> 28\u001b[0m     \u001b[43mstream\u001b[49m\u001b[38;5;241;43m.\u001b[39;49m\u001b[43mwrite\u001b[49m\u001b[43m(\u001b[49m\u001b[43maudio_data\u001b[49m\u001b[38;5;241;43m.\u001b[39;49m\u001b[43mtobytes\u001b[49m\u001b[43m(\u001b[49m\u001b[43m)\u001b[49m\u001b[43m)\u001b[49m\n\u001b[0;32m     30\u001b[0m \u001b[38;5;66;03m# Clean up PyAudio and audio stream\u001b[39;00m\n\u001b[0;32m     31\u001b[0m stream\u001b[38;5;241m.\u001b[39mstop_stream()\n",
      "File \u001b[1;32m~\\anaconda3\\envs\\yolov5-cpu\\lib\\site-packages\\pyaudio\\__init__.py:550\u001b[0m, in \u001b[0;36mPyAudio.Stream.write\u001b[1;34m(self, frames, num_frames, exception_on_underflow)\u001b[0m\n\u001b[0;32m    547\u001b[0m     width \u001b[38;5;241m=\u001b[39m get_sample_size(\u001b[38;5;28mself\u001b[39m\u001b[38;5;241m.\u001b[39m_format)\n\u001b[0;32m    548\u001b[0m     num_frames \u001b[38;5;241m=\u001b[39m \u001b[38;5;28mint\u001b[39m(\u001b[38;5;28mlen\u001b[39m(frames) \u001b[38;5;241m/\u001b[39m (\u001b[38;5;28mself\u001b[39m\u001b[38;5;241m.\u001b[39m_channels \u001b[38;5;241m*\u001b[39m width))\n\u001b[1;32m--> 550\u001b[0m \u001b[43mpa\u001b[49m\u001b[38;5;241;43m.\u001b[39;49m\u001b[43mwrite_stream\u001b[49m\u001b[43m(\u001b[49m\u001b[38;5;28;43mself\u001b[39;49m\u001b[38;5;241;43m.\u001b[39;49m\u001b[43m_stream\u001b[49m\u001b[43m,\u001b[49m\u001b[43m \u001b[49m\u001b[43mframes\u001b[49m\u001b[43m,\u001b[49m\u001b[43m \u001b[49m\u001b[43mnum_frames\u001b[49m\u001b[43m,\u001b[49m\n\u001b[0;32m    551\u001b[0m \u001b[43m                \u001b[49m\u001b[43mexception_on_underflow\u001b[49m\u001b[43m)\u001b[49m\n",
      "\u001b[1;31mKeyboardInterrupt\u001b[0m: "
     ]
    }
   ],
   "source": [
    "import numpy as np\n",
    "import pyaudio\n",
    "\n",
    "# Parameters for the audio stream\n",
    "sampling_rate = 44100\n",
    "start_frequency = 440\n",
    "external_factor = 0\n",
    "\n",
    "# Initialize PyAudio and audio stream\n",
    "p = pyaudio.PyAudio()\n",
    "stream = p.open(format=pyaudio.paFloat32,\n",
    "                channels=1,\n",
    "                rate=sampling_rate,\n",
    "                output=True)\n",
    "\n",
    "# Continuously generate audio data with variable frequency\n",
    "while True:\n",
    "    # Compute frequency based on an external factor (e.g. a sensor reading)\n",
    "    external_factor = external_factor + 6 # replace with code to read external factor\n",
    "    frequency = start_frequency + external_factor\n",
    "\n",
    "    # Generate audio data for the current frequency\n",
    "    duration = 0.1 # use a short duration to reduce latency\n",
    "    t = np.linspace(0, duration, int(sampling_rate * duration), False)\n",
    "    audio_data = np.sin(2 * np.pi * frequency * t)\n",
    "\n",
    "    # Play the audio data\n",
    "    stream.write(audio_data.tobytes())\n",
    "\n",
    "# Clean up PyAudio and audio stream\n",
    "stream.stop_stream()\n",
    "stream.close()\n",
    "p.terminate()"
   ]
  },
  {
   "cell_type": "code",
   "execution_count": null,
   "id": "a4524278",
   "metadata": {},
   "outputs": [],
   "source": []
  }
 ],
 "metadata": {
  "kernelspec": {
   "display_name": "Python 3 (ipykernel)",
   "language": "python",
   "name": "python3"
  },
  "language_info": {
   "codemirror_mode": {
    "name": "ipython",
    "version": 3
   },
   "file_extension": ".py",
   "mimetype": "text/x-python",
   "name": "python",
   "nbconvert_exporter": "python",
   "pygments_lexer": "ipython3",
   "version": "3.8.16"
  }
 },
 "nbformat": 4,
 "nbformat_minor": 5
}
